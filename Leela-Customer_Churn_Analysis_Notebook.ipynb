{
 "cells": [
  {
   "cell_type": "markdown",
   "id": "d5202cd1",
   "metadata": {},
   "source": [
    "# Customer Churn Analysis\n",
    "Detailed step-by-step machine learning pipeline using Logistic Regression, Random Forest, and XGBoost."
   ]
  },
  {
   "cell_type": "markdown",
   "id": "acf635d4",
   "metadata": {},
   "source": [
    "## 1. Import Libraries"
   ]
  },
  {
   "cell_type": "code",
   "execution_count": null,
   "id": "3b71a95c",
   "metadata": {},
   "outputs": [],
   "source": [
    "import pandas as pd\n",
    "import matplotlib.pyplot as plt\n",
    "import seaborn as sns\n",
    "from sklearn.preprocessing import LabelEncoder, StandardScaler\n",
    "from sklearn.model_selection import train_test_split\n",
    "from sklearn.linear_model import LogisticRegression\n",
    "from sklearn.ensemble import RandomForestClassifier\n",
    "from xgboost import XGBClassifier\n",
    "from sklearn.metrics import classification_report, confusion_matrix, roc_auc_score"
   ]
  },
  {
   "cell_type": "markdown",
   "id": "be46a06a",
   "metadata": {},
   "source": [
    "## 2. Load and Inspect Dataset"
   ]
  },
  {
   "cell_type": "code",
   "execution_count": null,
   "id": "cb857924",
   "metadata": {},
   "outputs": [],
   "source": [
    "df = pd.read_csv('Customer-Churn-Records.csv')\n",
    "df.head()"
   ]
  },
  {
   "cell_type": "markdown",
   "id": "f62ec4fd",
   "metadata": {},
   "source": [
    "## 3. Data Cleaning and Preprocessing"
   ]
  },
  {
   "cell_type": "code",
   "execution_count": null,
   "id": "c63d1e5c",
   "metadata": {},
   "outputs": [],
   "source": [
    "# Drop identifier columns\n",
    "df_cleaned = df.drop(['RowNumber', 'CustomerId', 'Surname'], axis=1)\n",
    "\n",
    "# Label encode categorical columns\n",
    "categorical_cols = ['Geography', 'Gender', 'Card Type']\n",
    "label_encoders = {}\n",
    "for col in categorical_cols:\n",
    "    le = LabelEncoder()\n",
    "    df_cleaned[col] = le.fit_transform(df_cleaned[col])\n",
    "    label_encoders[col] = le\n",
    "\n",
    "df_cleaned.head()"
   ]
  },
  {
   "cell_type": "markdown",
   "id": "263e1742",
   "metadata": {},
   "source": [
    "## 4. Train-Test Split and Scaling"
   ]
  },
  {
   "cell_type": "code",
   "execution_count": null,
   "id": "92fc1dcb",
   "metadata": {},
   "outputs": [],
   "source": [
    "X = df_cleaned.drop('Exited', axis=1)\n",
    "y = df_cleaned['Exited']\n",
    "X_train, X_test, y_train, y_test = train_test_split(X, y, test_size=0.2, random_state=42)\n",
    "\n",
    "scaler = StandardScaler()\n",
    "X_train_scaled = scaler.fit_transform(X_train)\n",
    "X_test_scaled = scaler.transform(X_test)"
   ]
  },
  {
   "cell_type": "markdown",
   "id": "6702a23e",
   "metadata": {},
   "source": [
    "## 5. Train Models"
   ]
  },
  {
   "cell_type": "code",
   "execution_count": null,
   "id": "5cc1ed56",
   "metadata": {},
   "outputs": [],
   "source": [
    "models = {\n",
    "    \"Logistic Regression\": LogisticRegression(max_iter=1000),\n",
    "    \"Random Forest\": RandomForestClassifier(n_estimators=100, random_state=42),\n",
    "    \"XGBoost\": XGBClassifier(use_label_encoder=False, eval_metric='logloss')\n",
    "}\n",
    "\n",
    "results = {}\n",
    "for name, model in models.items():\n",
    "    model.fit(X_train_scaled, y_train)\n",
    "    y_pred = model.predict(X_test_scaled)\n",
    "    report = classification_report(y_test, y_pred, output_dict=True)\n",
    "    cm = confusion_matrix(y_test, y_pred)\n",
    "    auc = roc_auc_score(y_test, model.predict_proba(X_test_scaled)[:, 1])\n",
    "    results[name] = {\n",
    "        \"model\": model,\n",
    "        \"classification_report\": report,\n",
    "        \"confusion_matrix\": cm,\n",
    "        \"roc_auc\": auc\n",
    "    }"
   ]
  },
  {
   "cell_type": "markdown",
   "id": "991f30de",
   "metadata": {},
   "source": [
    "## 6. Model Evaluation and Visualization"
   ]
  },
  {
   "cell_type": "code",
   "execution_count": null,
   "id": "660a4c88",
   "metadata": {},
   "outputs": [],
   "source": [
    "for name, result in results.items():\n",
    "    print(f\"\\n{name} - ROC AUC: {result['roc_auc']:.4f}\")\n",
    "    print(\"Classification Report:\")\n",
    "    print(pd.DataFrame(result['classification_report']).transpose())"
   ]
  },
  {
   "cell_type": "code",
   "execution_count": null,
   "id": "1e211889",
   "metadata": {},
   "outputs": [],
   "source": [
    "# Plot confusion matrix\n",
    "for name, result in results.items():\n",
    "    cm = result['confusion_matrix']\n",
    "    sns.heatmap(cm, annot=True, fmt='d', cmap='Blues',\n",
    "                xticklabels=['No Churn', 'Churn'], yticklabels=['No Churn', 'Churn'])\n",
    "    plt.title(f\"{name} - Confusion Matrix\")\n",
    "    plt.xlabel(\"Predicted\")\n",
    "    plt.ylabel(\"Actual\")\n",
    "    plt.show()"
   ]
  },
  {
   "cell_type": "code",
   "execution_count": null,
   "id": "0e1e37d1",
   "metadata": {},
   "outputs": [],
   "source": [
    "# Feature Importances\n",
    "for name in ['Random Forest', 'XGBoost']:\n",
    "    model = results[name]['model']\n",
    "    importances = model.feature_importances_\n",
    "    indices = importances.argsort()[::-1]\n",
    "    features = X.columns[indices]\n",
    "    sns.barplot(x=importances[indices], y=features)\n",
    "    plt.title(f\"{name} - Feature Importances\")\n",
    "    plt.show()"
   ]
  }
 ],
 "metadata": {},
 "nbformat": 4,
 "nbformat_minor": 5
}
